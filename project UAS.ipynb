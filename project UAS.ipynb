{
 "cells": [
  {
   "cell_type": "code",
   "execution_count": 10,
   "id": "c84b52a6",
   "metadata": {},
   "outputs": [],
   "source": [
    "import speech_recognition as sr"
   ]
  },
  {
   "cell_type": "code",
   "execution_count": 11,
   "id": "1b7ae202",
   "metadata": {},
   "outputs": [
    {
     "name": "stdout",
     "output_type": "stream",
     "text": [
      "silahkan mulai bicara\n",
      "waktu habis\n",
      "result2:\n",
      "{   'alternative': [   {   'confidence': 0.89253139,\n",
      "                           'transcript': 'kipas angin ini warna biru'},\n",
      "                       {'transcript': 'kipas angin mini warna biru'}],\n",
      "    'final': True}\n",
      "kipas angin ini warna biru\n"
     ]
    }
   ],
   "source": [
    "engine = sr.Recognizer()\n",
    "mic = sr.Microphone()\n",
    "hasil = \"\"\n",
    "\n",
    "with mic as source:\n",
    "    print(\"silahkan mulai bicara\")\n",
    "    rekaman = engine.listen(source,phrase_time_limit=10)\n",
    "    print(\"waktu habis\")\n",
    "    \n",
    "    try:\n",
    "        hasil = engine.recognize_google(rekaman, language = \"id-ID\")\n",
    "        print(hasil)\n",
    "    except engine.unknownValueError:\n",
    "        print(\"maaf tidak di deteksi, mohon coba lagi\")\n",
    "    except Exception as e:\n",
    "        print(e)\n"
   ]
  },
  {
   "cell_type": "code",
   "execution_count": 12,
   "id": "c303373f",
   "metadata": {},
   "outputs": [],
   "source": [
    "text_file = open(\"Hasil.txt\", \"w\")\n",
    "text_file.write(hasil)\n",
    "text_file.close()"
   ]
  }
 ],
 "metadata": {
  "kernelspec": {
   "display_name": "Python 3",
   "language": "python",
   "name": "python3"
  },
  "language_info": {
   "codemirror_mode": {
    "name": "ipython",
    "version": 3
   },
   "file_extension": ".py",
   "mimetype": "text/x-python",
   "name": "python",
   "nbconvert_exporter": "python",
   "pygments_lexer": "ipython3",
   "version": "3.10.7"
  },
  "vscode": {
   "interpreter": {
    "hash": "e593ac106456af50ce7af38f9671c411b49d6cd90f9b885e167f0f594e09038c"
   }
  }
 },
 "nbformat": 4,
 "nbformat_minor": 5
}
